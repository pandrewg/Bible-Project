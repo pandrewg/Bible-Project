{
 "cells": [
  {
   "cell_type": "code",
   "execution_count": 18,
   "metadata": {
    "collapsed": true
   },
   "outputs": [],
   "source": [
    "import pandas as pd\n",
    "import numpy as np\n",
    "import json\n",
    "import sqlite3"
   ]
  },
  {
   "cell_type": "code",
   "execution_count": 19,
   "metadata": {},
   "outputs": [
    {
     "name": "stdout",
     "output_type": "stream",
     "text": [
      "TABLES IN DATABASE\n",
      "\n",
      "[('bible_version_key',), ('cross_reference',), ('key_english',), ('t_asv',), ('t_bbe',), ('t_dby',), ('t_kjv',), ('t_wbt',), ('t_web',), ('t_ylt',)]\n"
     ]
    },
    {
     "data": {
      "text/html": [
       "<div>\n",
       "<style>\n",
       "    .dataframe thead tr:only-child th {\n",
       "        text-align: right;\n",
       "    }\n",
       "\n",
       "    .dataframe thead th {\n",
       "        text-align: left;\n",
       "    }\n",
       "\n",
       "    .dataframe tbody tr th {\n",
       "        vertical-align: top;\n",
       "    }\n",
       "</style>\n",
       "<table border=\"1\" class=\"dataframe\">\n",
       "  <thead>\n",
       "    <tr style=\"text-align: right;\">\n",
       "      <th></th>\n",
       "      <th>Book</th>\n",
       "      <th>Chapter</th>\n",
       "      <th>Verse</th>\n",
       "      <th>Text</th>\n",
       "    </tr>\n",
       "    <tr>\n",
       "      <th>id</th>\n",
       "      <th></th>\n",
       "      <th></th>\n",
       "      <th></th>\n",
       "      <th></th>\n",
       "    </tr>\n",
       "  </thead>\n",
       "  <tbody>\n",
       "    <tr>\n",
       "      <th>1001001</th>\n",
       "      <td>1</td>\n",
       "      <td>1</td>\n",
       "      <td>1</td>\n",
       "      <td>In the beginning God created the heavens and t...</td>\n",
       "    </tr>\n",
       "    <tr>\n",
       "      <th>1001002</th>\n",
       "      <td>1</td>\n",
       "      <td>1</td>\n",
       "      <td>2</td>\n",
       "      <td>And the earth was waste and void; and darkness...</td>\n",
       "    </tr>\n",
       "    <tr>\n",
       "      <th>1001003</th>\n",
       "      <td>1</td>\n",
       "      <td>1</td>\n",
       "      <td>3</td>\n",
       "      <td>And God said, Let there be light: and there wa...</td>\n",
       "    </tr>\n",
       "    <tr>\n",
       "      <th>1001004</th>\n",
       "      <td>1</td>\n",
       "      <td>1</td>\n",
       "      <td>4</td>\n",
       "      <td>And God saw the light, that it was good: and G...</td>\n",
       "    </tr>\n",
       "    <tr>\n",
       "      <th>1001005</th>\n",
       "      <td>1</td>\n",
       "      <td>1</td>\n",
       "      <td>5</td>\n",
       "      <td>And God called the light Day, and the darkness...</td>\n",
       "    </tr>\n",
       "  </tbody>\n",
       "</table>\n",
       "</div>"
      ],
      "text/plain": [
       "         Book  Chapter  Verse  \\\n",
       "id                              \n",
       "1001001     1        1      1   \n",
       "1001002     1        1      2   \n",
       "1001003     1        1      3   \n",
       "1001004     1        1      4   \n",
       "1001005     1        1      5   \n",
       "\n",
       "                                                      Text  \n",
       "id                                                          \n",
       "1001001  In the beginning God created the heavens and t...  \n",
       "1001002  And the earth was waste and void; and darkness...  \n",
       "1001003  And God said, Let there be light: and there wa...  \n",
       "1001004  And God saw the light, that it was good: and G...  \n",
       "1001005  And God called the light Day, and the darkness...  "
      ]
     },
     "execution_count": 19,
     "metadata": {},
     "output_type": "execute_result"
    }
   ],
   "source": [
    "# List of Tables in the bible-sqlite.db database\n",
    "\n",
    "con = sqlite3.connect(\"C:\\\\Users\\\\Pablo\\\\Desktop\\\\Bible Project\\\\archive\\\\bible_databases-master\\\\bible-sqlite.db\")\n",
    "cursor = con.cursor()\n",
    "cursor.execute(\"SELECT name FROM sqlite_master WHERE type='table';\")\n",
    "print(\"TABLES IN DATABASE\\n\")\n",
    "print(cursor.fetchall())\n",
    "\n",
    "data = pd.read_sql_query(sql=\"SELECT * FROM t_asv\",con=con)\n",
    "data.set_index('id',inplace=True)\n",
    "data.columns = ['Book','Chapter','Verse','Text']\n",
    "\n",
    "con.close()\n",
    "\n",
    "data.head()"
   ]
  },
  {
   "cell_type": "code",
   "execution_count": 20,
   "metadata": {},
   "outputs": [],
   "source": [
    "BooksDB = pd.read_excel('BooksDict.xlsx')\n",
    "BibleDict = dict(zip(BooksDB['Number'],BooksDB['Book']))\n",
    "del BooksDB\n",
    "\n",
    "data['Book'] = data['Book'].replace(BibleDict)"
   ]
  },
  {
   "cell_type": "code",
   "execution_count": 21,
   "metadata": {},
   "outputs": [
    {
     "name": "stdout",
     "output_type": "stream",
     "text": [
      "In the beginning God created the heavens and the earth.\n",
      "...\n",
      "And the earth was waste and void; and darkness was upon the face of the deep: and the Spirit of God moved upon the face of the waters.\n",
      "...\n",
      "And God said, Let there be light: and there was light.\n",
      "...\n"
     ]
    }
   ],
   "source": [
    "for i in data.head(3)['Text'].values:\n",
    "    print(i+\"\\n...\")"
   ]
  },
  {
   "cell_type": "code",
   "execution_count": 22,
   "metadata": {
    "scrolled": false
   },
   "outputs": [],
   "source": [
    "def verse(book,chapter,verse):\n",
    "    return data[(data['Book']==book)&(data['Chapter']==chapter)&(data['Verse']==verse)]['Text'].values[0]"
   ]
  },
  {
   "cell_type": "code",
   "execution_count": 23,
   "metadata": {
    "scrolled": true
   },
   "outputs": [
    {
     "data": {
      "text/plain": [
       "'Now these are the names of the sons of Israel, who came into Egypt (every man and his household came with Jacob):'"
      ]
     },
     "execution_count": 23,
     "metadata": {},
     "output_type": "execute_result"
    }
   ],
   "source": [
    "verse(\"Exodus\",1,1)"
   ]
  },
  {
   "cell_type": "code",
   "execution_count": 24,
   "metadata": {},
   "outputs": [
    {
     "data": {
      "text/plain": [
       "'He that is unrighteous, let him do unrighteousness still: and he that is filthy, let him be made filthy still: and he that is righteous, let him do righteousness still: and he that is holy, let him be made holy still.'"
      ]
     },
     "execution_count": 24,
     "metadata": {},
     "output_type": "execute_result"
    }
   ],
   "source": [
    "verse('Revelation',22,11)"
   ]
  },
  {
   "cell_type": "code",
   "execution_count": 30,
   "metadata": {
    "scrolled": true
   },
   "outputs": [],
   "source": [
    "Bible = {}\n",
    "\n",
    "for Book in list(BibleDict.values()):\n",
    "    \n",
    "    BookText = \"\"\n",
    "    for v in data[data['Book']==Book]['Text']:\n",
    "        BookText+=(v+' ')\n",
    "    \n",
    "    Bible[Book] = BookText[:len(BookText)-1]"
   ]
  },
  {
   "cell_type": "code",
   "execution_count": 32,
   "metadata": {
    "scrolled": false
   },
   "outputs": [
    {
     "data": {
      "text/plain": [
       "'The words of the Preacher, the son of David, king in Jerusalem. Vanity of vanities, saith the Preach'"
      ]
     },
     "execution_count": 32,
     "metadata": {},
     "output_type": "execute_result"
    }
   ],
   "source": [
    "Bible['Ecclesiastes'][:100]"
   ]
  },
  {
   "cell_type": "code",
   "execution_count": 27,
   "metadata": {},
   "outputs": [
    {
     "data": {
      "text/plain": [
       "' him. Psalm 3 A Psalm of David, when he fled from Absalom his son. Jehovah, how are mine adversaries increased! Many are they that rise up against me. Many there are that say of my soul, There is no help for him in God. Selah But thou, O Jehovah, art a shield about me; My g'"
      ]
     },
     "execution_count": 27,
     "metadata": {},
     "output_type": "execute_result"
    }
   ],
   "source": [
    "# annotated \"psalm titles\" on each chapter. need to be cleaned\n",
    "\n",
    "Bible['Psalms'][1726:2000]"
   ]
  },
  {
   "cell_type": "code",
   "execution_count": 28,
   "metadata": {
    "scrolled": false
   },
   "outputs": [],
   "source": [
    "#for book in BibleDict.values():\n",
    "\n",
    "#    with open('Bible/'+book+'.txt', 'w') as f:\n",
    "#        f.write(Bible[book])"
   ]
  }
 ],
 "metadata": {
  "kernelspec": {
   "display_name": "Python 3",
   "language": "python",
   "name": "python3"
  },
  "language_info": {
   "codemirror_mode": {
    "name": "ipython",
    "version": 3
   },
   "file_extension": ".py",
   "mimetype": "text/x-python",
   "name": "python",
   "nbconvert_exporter": "python",
   "pygments_lexer": "ipython3",
   "version": "3.6.3"
  }
 },
 "nbformat": 4,
 "nbformat_minor": 2
}
